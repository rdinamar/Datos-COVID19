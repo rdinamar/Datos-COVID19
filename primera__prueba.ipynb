{
  "nbformat": 4,
  "nbformat_minor": 0,
  "metadata": {
    "colab": {
      "name": "primera _prueba.ipynb",
      "provenance": [],
      "collapsed_sections": [],
      "toc_visible": true,
      "mount_file_id": "19O9GI68rts3fKHj85fK9rKk3ckTFHbnd",
      "authorship_tag": "ABX9TyNkHBPsp23EE7l+ogessTl3",
      "include_colab_link": true
    },
    "kernelspec": {
      "name": "python3",
      "display_name": "Python 3"
    },
    "language_info": {
      "name": "python"
    }
  },
  "cells": [
    {
      "cell_type": "markdown",
      "metadata": {
        "id": "view-in-github",
        "colab_type": "text"
      },
      "source": [
        "<a href=\"https://colab.research.google.com/github/rdinamar/Datos-COVID19/blob/master/primera__prueba.ipynb\" target=\"_parent\"><img src=\"https://colab.research.google.com/assets/colab-badge.svg\" alt=\"Open In Colab\"/></a>"
      ]
    },
    {
      "cell_type": "markdown",
      "metadata": {
        "id": "_m1RfwccoWVF"
      },
      "source": [
        "esta es la primera prueba en google colab"
      ]
    },
    {
      "cell_type": "code",
      "metadata": {
        "id": "eVhBdV42mjvy"
      },
      "source": [
        "2+2\n"
      ],
      "execution_count": null,
      "outputs": []
    },
    {
      "cell_type": "code",
      "metadata": {
        "id": "5OD7vT3anOsl"
      },
      "source": [
        "print(\"Hello World\")\n",
        "\n"
      ],
      "execution_count": null,
      "outputs": []
    },
    {
      "cell_type": "code",
      "metadata": {
        "id": "TYdR1q_1pI3r"
      },
      "source": [
        "archivo2 = open(\"base_de_datos_de_clientes.csv\", encoding = \"Latin-1\")\n",
        "\n",
        "archivo_en_lineas2 = archivo2.readlines()\n",
        "\n",
        "archivo2.close()\n",
        "\n",
        "numero_de_clientes = len(archivo_en_lineas2)\n",
        "\n",
        "head = [\"Rut\", \"Nombre\", \"Genero\", \"Fecha Nac\", \"Edad\", \"Tipo Cliente\", \"Monto\", \"Pje Credito\"]\n",
        "\n",
        "matriz_de_datos = []\n",
        "\n",
        "for linea in archivo_en_lineas2:\n",
        "\tlinea = linea.strip(\"A.!--\")\n",
        "\tfila = linea.split(\";\")\n",
        "\tmatriz_de_datos.append(fila)\n",
        "\n",
        "for fila in matriz_de_datos:\n",
        "\tfecha_de_nacimiento = fila[3]\n",
        "\tfecha_de_nacimiento_lista = fecha_de_nacimiento.split(\"-/-\")\n",
        "\tedad = 2021 - int(fecha_de_nacimiento_lista[0])\n",
        "\tfila [7] = fila[7].strip()\n",
        "\tfila[4] = fila[4].strip(\"xxx\")\n",
        "\tfila[4] = edad\n",
        "\tfila[3] = fila[3].replace(\"-\", \"\")\n",
        "\t\n",
        "\n",
        "matriz_de_datos.insert(0, head)\n",
        "\n",
        "archivo_guardar = open(\"clientes_limpio.csv\",\"w\")\n",
        "\n",
        "for fila in matriz_de_datos:\n",
        "\tfila_para_escribir = \"\"\n",
        "\n",
        "\tfor i in range(0,len(fila)):\n",
        "\t\tif i == len(fila)-1:\n",
        "\t\t\tfila_para_escribir += str(fila[i])\n",
        "\t\telse:\n",
        "\t\t\tfila_para_escribir += str(fila[i]) + \";\"\n",
        "\n",
        "\tfila_para_escribir += \"\\n\"\n",
        "\n",
        "\tarchivo_guardar.write(fila_para_escribir)\n",
        "\n",
        "archivo_guardar.close()\n",
        "\n",
        "\n",
        "print(matriz_de_datos)\n",
        "print(numero_de_clientes)"
      ],
      "execution_count": null,
      "outputs": []
    },
    {
      "cell_type": "code",
      "metadata": {
        "id": "TdIOxlZNrW9w"
      },
      "source": [
        "import pandas as pd\n"
      ],
      "execution_count": 16,
      "outputs": []
    }
  ]
}